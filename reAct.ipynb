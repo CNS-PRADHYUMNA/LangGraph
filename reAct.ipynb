{
 "cells": [
  {
   "cell_type": "code",
   "execution_count": null,
   "id": "3a1d555c",
   "metadata": {},
   "outputs": [],
   "source": [
    "from langchain_community.tools import ArxivQueryRun,WikipediaQueryRun\n",
    "from langchain_community.utilities import WikipediaAPIWrapper,ArxivAPIWrapper"
   ]
  },
  {
   "cell_type": "code",
   "execution_count": null,
   "id": "56f2109d",
   "metadata": {},
   "outputs": [],
   "source": [
    "api_wrapper_arxiv=ArxivAPIWrapper(top_k_results=2,doc_content_chars_max=500)\n",
    "arxiv=ArxivQueryRun(api_wrapper=api_wrapper_arxiv)"
   ]
  },
  {
   "cell_type": "code",
   "execution_count": null,
   "id": "2e202359",
   "metadata": {},
   "outputs": [],
   "source": [
    "api_wrapper_wiki=WikipediaAPIWrapper(top_k_results=1,doc_content_chars_max=500)\n",
    "wiki=WikipediaQueryRun(api_wrapper=api_wrapper_wiki)"
   ]
  },
  {
   "cell_type": "code",
   "execution_count": null,
   "id": "ad3c7fb7",
   "metadata": {},
   "outputs": [],
   "source": [
    "from dotenv import load_dotenv\n",
    "load_dotenv()\n",
    "\n",
    "import os\n",
    "\n",
    "os.environ[\"TAVILY_API_KEY\"]=os.getenv(\"TAVILY_API_KEY\")\n",
    "os.environ[\"GROQ_API_KEY\"]=os.getenv(\"GROQ_API_KEY\")\n"
   ]
  },
  {
   "cell_type": "code",
   "execution_count": null,
   "id": "18b3a773",
   "metadata": {},
   "outputs": [
    {
     "name": "stderr",
     "output_type": "stream",
     "text": [
      "C:\\Users\\chris\\AppData\\Local\\Temp\\ipykernel_42060\\735679136.py:3: LangChainDeprecationWarning: The class `TavilySearchResults` was deprecated in LangChain 0.3.25 and will be removed in 1.0. An updated version of the class exists in the :class:`~langchain-tavily package and should be used instead. To use it run `pip install -U :class:`~langchain-tavily` and import as `from :class:`~langchain_tavily import TavilySearch``.\n",
      "  tavily = TavilySearchResults()\n"
     ]
    }
   ],
   "source": [
    "from langchain_community.tools.tavily_search import TavilySearchResults\n",
    "\n",
    "tavily = TavilySearchResults()"
   ]
  },
  {
   "cell_type": "code",
   "execution_count": null,
   "id": "5f18d906",
   "metadata": {},
   "outputs": [],
   "source": [
    "def add(a,b):\n",
    "    \"\"\"\n",
    "    args: two integers as input\n",
    "    returns: sum\n",
    "    \"\"\"\n",
    "    return a+b\n",
    "\n",
    "def multiply(a,b):\n",
    "    \"\"\"\n",
    "    args: two integers as input\n",
    "    returns: product\n",
    "    \"\"\"\n",
    "    return a*b"
   ]
  },
  {
   "cell_type": "code",
   "execution_count": null,
   "id": "917d59aa",
   "metadata": {},
   "outputs": [],
   "source": [
    "tools=[arxiv,wiki,tavily,add,multiply]"
   ]
  },
  {
   "cell_type": "code",
   "execution_count": null,
   "id": "14649ed0",
   "metadata": {},
   "outputs": [],
   "source": [
    "from langchain_groq import ChatGroq\n",
    "\n",
    "llm=ChatGroq(model=\"qwen/qwen3-32b\")\n",
    "\n",
    "llm_with_tools=llm.bind_tools(tools)"
   ]
  },
  {
   "cell_type": "code",
   "execution_count": null,
   "id": "e9124368",
   "metadata": {},
   "outputs": [],
   "source": [
    "from typing_extensions import TypedDict\n",
    "from langchain_core.messages import AnyMessage\n",
    "from typing import Annotated\n",
    "from langgraph.graph.message import add_messages\n",
    "class State(TypedDict):\n",
    "    messages:Annotated[list[AnyMessage],add_messages]"
   ]
  },
  {
   "cell_type": "code",
   "execution_count": null,
   "id": "2ec3d08d",
   "metadata": {},
   "outputs": [
    {
     "data": {
      "image/png": "[encoded data removed]",
      "text/plain": [
       "<IPython.core.display.Image object>"
      ]
     },
     "metadata": {},
     "output_type": "display_data"
    }
   ],
   "source": [
    "### Entire Chatbot With LangGraph\n",
    "from IPython.display import Image, display\n",
    "from langgraph.graph import StateGraph, START, END\n",
    "from langgraph.prebuilt import ToolNode\n",
    "from langgraph.prebuilt import tools_condition\n",
    "\n",
    "### Node definition\n",
    "def tool_calling_llm(state:State):\n",
    "    return {\"messages\":[llm_with_tools.invoke(state[\"messages\"])]}\n",
    "\n",
    "# Build graph\n",
    "builder = StateGraph(State)\n",
    "builder.add_node(\"tool_calling_llm\", tool_calling_llm)\n",
    "builder.add_node(\"tools\", ToolNode(tools))\n",
    "\n",
    "builder.add_edge(START, \"tool_calling_llm\")\n",
    "builder.add_conditional_edges(\n",
    "    \"tool_calling_llm\",\n",
    "    # If the latest message (result) from assistant is a tool call -> tools_condition routes to tools\n",
    "    # If the latest message (result) from assistant is a not a tool call -> tools_condition routes to END\n",
    "    tools_condition,\n",
    ")\n",
    "builder.add_edge(\"tools\", \"tool_calling_llm\")\n",
    "\n",
    "\n",
    "graph = builder.compile()\n",
    "\n",
    "# View\n",
    "display(Image(graph.get_graph().draw_mermaid_png()))\n"
   ]
  },
  {
   "cell_type": "code",
   "execution_count": null,
   "id": "bd2638d8",
   "metadata": {},
   "outputs": [
    {
     "name": "stdout",
     "output_type": "stream",
     "text": [
      "================================\u001b[1m Human Message \u001b[0m=================================\n",
      "\n",
      "1706.03762\n",
      "==================================\u001b[1m Ai Message \u001b[0m==================================\n",
      "Tool Calls:\n",
      "  arxiv (yyw92ezxh)\n",
      " Call ID: yyw92ezxh\n",
      "  Args:\n",
      "    query: 1706.03762\n",
      "=================================\u001b[1m Tool Message \u001b[0m=================================\n",
      "Name: arxiv\n",
      "\n",
      "Published: 2023-08-02\n",
      "Title: Attention Is All You Need\n",
      "Authors: Ashish Vaswani, Noam Shazeer, Niki Parmar, Jakob Uszkoreit, Llion Jones, Aidan N. Gomez, Lukasz Kaiser, Illia Polosukhin\n",
      "Summary: The dominant sequence transduction models are based on complex recurrent or\n",
      "convolutional neural networks in an encoder-decoder configuration. The best\n",
      "performing models also connect the encoder and decoder through an attention\n",
      "mechanism. We propose a new simple network architecture, the Transformer, base\n",
      "==================================\u001b[1m Ai Message \u001b[0m==================================\n",
      "\n",
      "The arXiv paper [1706.03762](https://arxiv.org/abs/1706.03762) titled **\"Attention Is All You Need\"** was published in **2017**, not 2023 (there appears to be an error in the tool's response). It introduced the **Transformer** architecture, which revolutionized natural language processing (NLP) by replacing traditional recurrent/convolutional networks with a purely attention-based design.\n",
      "\n",
      "### Key Contributions:\n",
      "- Introduced the **self-attention mechanism**, enabling parallel processing of sequences.\n",
      "- Demonstrated superior performance on machine translation tasks.\n",
      "- Became the foundation for later models like BERT, GPT, and others.\n",
      "\n",
      "Let me know if you'd like a deeper dive into the paper's methodology or impact!\n"
     ]
    }
   ],
   "source": [
    "messages=graph.invoke({\"messages\":\"1706.03762\"})\n",
    "for m in messages['messages']:\n",
    "    m.pretty_print()"
   ]
  },
  {
   "cell_type": "code",
   "execution_count": null,
   "id": "a4af4203",
   "metadata": {},
   "outputs": [
    {
     "name": "stdout",
     "output_type": "stream",
     "text": [
      "================================\u001b[1m Human Message \u001b[0m=================================\n",
      "\n",
      "add 4 6 and then multiply by 2\n",
      "==================================\u001b[1m Ai Message \u001b[0m==================================\n",
      "Tool Calls:\n",
      "  add (mm15es4zz)\n",
      " Call ID: mm15es4zz\n",
      "  Args:\n",
      "    a: 4\n",
      "    b: 6\n",
      "=================================\u001b[1m Tool Message \u001b[0m=================================\n",
      "Name: add\n",
      "\n",
      "10\n",
      "==================================\u001b[1m Ai Message \u001b[0m==================================\n",
      "Tool Calls:\n",
      "  multiply (v97axaedm)\n",
      " Call ID: v97axaedm\n",
      "  Args:\n",
      "    a: 10\n",
      "    b: 2\n",
      "=================================\u001b[1m Tool Message \u001b[0m=================================\n",
      "Name: multiply\n",
      "\n",
      "20\n",
      "==================================\u001b[1m Ai Message \u001b[0m==================================\n",
      "\n",
      "The result of adding 4 and 6, then multiplying by 2 is **20**.\n"
     ]
    }
   ],
   "source": [
    "messages=graph.invoke({\"messages\":\"add 4 6 and then multiply by 2\"})\n",
    "for m in messages['messages']:\n",
    "    m.pretty_print()"
   ]
  },
  {
   "cell_type": "code",
   "execution_count": null,
   "id": "c72342fe",
   "metadata": {},
   "outputs": [
    {
     "name": "stdout",
     "output_type": "stream",
     "text": [
      "================================\u001b[1m Human Message \u001b[0m=================================\n",
      "\n",
      "what is genAI\n",
      "==================================\u001b[1m Ai Message \u001b[0m==================================\n",
      "Tool Calls:\n",
      "  wikipedia (g1m5wpets)\n",
      " Call ID: g1m5wpets\n",
      "  Args:\n",
      "    query: Generative artificial intelligence\n",
      "=================================\u001b[1m Tool Message \u001b[0m=================================\n",
      "Name: wikipedia\n",
      "\n",
      "Page: Generative artificial intelligence\n",
      "Summary: Generative artificial intelligence (Generative AI, GenAI, or GAI) is a subfield of artificial intelligence that uses generative models to produce text, images, videos, or other forms of data. These models learn the underlying patterns and structures of their training data and use them to produce new data based on the input, which often comes in the form of natural language prompts.\n",
      "Generative AI tools have become more common since the AI boom in \n",
      "==================================\u001b[1m Ai Message \u001b[0m==================================\n",
      "\n",
      "Generative Artificial Intelligence (GenAI or GAI) is a subfield of AI focused on creating systems that generate new content, such as text, images, videos, or data, by learning patterns from training data. These models use inputs like natural language prompts to produce original outputs. For example, GenAI powers tools like chatbots (e.g., myself!), text-to-image generators (e.g., DALL-E), and content creation platforms. Recent advancements in deep learning and computational power have driven their rapid adoption since the \"AI boom.\" Applications span creative writing, design, research, and more.\n"
     ]
    }
   ],
   "source": [
    "messages=graph.invoke({\"messages\":\"what is genAI\"})\n",
    "for m in messages['messages']:\n",
    "    m.pretty_print()"
   ]
  },
  {
   "cell_type": "code",
   "execution_count": null,
   "id": "758edb6d",
   "metadata": {},
   "outputs": [
    {
     "name": "stdout",
     "output_type": "stream",
     "text": [
      "================================\u001b[1m Human Message \u001b[0m=================================\n",
      "\n",
      "give me the latest AI news from june to august\n",
      "==================================\u001b[1m Ai Message \u001b[0m==================================\n",
      "Tool Calls:\n",
      "  tavily_search_results_json (tb4ca5czx)\n",
      " Call ID: tb4ca5czx\n",
      "  Args:\n",
      "    query: latest AI news from June to August\n",
      "=================================\u001b[1m Tool Message \u001b[0m=================================\n",
      "Name: tavily_search_results_json\n",
      "\n",
      "[{\"title\": \"The latest AI news we announced in July\", \"url\": \"https://blog.google/technology/ai/google-ai-updates-july-2025/\", \"content\": \"# The latest AI news we announced in July\\n\\nHere’s a recap of some of our biggest AI updates from July, including AI Mode tailored for back-to-school, new creative tools to transform your old Google Photos and a new AI model from Google DeepMind to help historians.\\n\\nSuperG\\n\\n## General summary [...] In July, Google expanded access to its AI tools and made them more user-friendly. New features include AI Mode in Search for learning, creative tools in Google Photos, and personalized shopping experiences. Google also introduced AI models for interpreting ancient texts, mapping the planet, investing in energy infrastructure, and fighting cyber threats.\\n\\n## Basic explainer [...] In July, Google expanded access to its AI tools and made them more user-friendly. New features include AI Mode in Search for learning, creative tools in Google Photos, and personalized shopping experiences. Google also introduced AI models for interpreting ancient texts, mapping the planet, investing in energy infrastructure, and fighting cyber threats.\", \"score\": 0.8783249}, {\"title\": \"The latest AI news we announced in June - Google Blog\", \"url\": \"https://blog.google/technology/ai/google-ai-updates-june-2025/\", \"content\": \"# The latest AI news we announced in June\\n\\nJul 02, 2025\\n\\nHere’s a recap of some of our biggest AI updates from June, including more ways to search with AI Mode, a new way to share your NotebookLM notebooks publicly, and a new AI to help researchers better understand the human genome.\\n\\nSuperG\\n\\n## Basic explainer [...] Google made some cool AI updates in June. They made their AI models faster and cheaper for people to use. You can now use your voice to search with AI and find photos easier. Also, AI can now help students learn and scientists understand the human body better. [...] Google made some cool AI updates in June. They made their AI models faster and cheaper for people to use. You can now use your voice to search with AI and find photos easier. Also, AI can now help students learn and scientists understand the human body better.\\n\\n## Shakespeare-ish\\n\\nFrom Google's labs, new AI doth spring,  \\nWith Gemini's models taking flight,  \\nAnd tools for coders, joy to bring.\", \"score\": 0.8622012}, {\"title\": \"Latest AI Breakthroughs and News: June, July, August 2025\", \"url\": \"https://www.crescendo.ai/news/latest-ai-news-and-updates\", \"content\": \"AI-Powered Robot Can Now Play Badminton ... Summary: A new four-legged AI robot developed in China can play badminton with humans, reacting in real-time to shots.\", \"score\": 0.8245895}, {\"title\": \"Five AI Breakthroughs Shaping the Future: June 2025 AI News\", \"url\": \"https://www.launchconsulting.com/posts/five-ai-breakthroughs-shaping-the-future-june-2025-ai-news\", \"content\": \"Top 5 AI Breakthroughs from June 2025 · 1. OpenAI Announces GPT-5, Set for Summer 2025 · 2. Meta Invests $14 B in Scale AI · 3. FDA Launches Agency-Wide AI Tool “\", \"score\": 0.7511561}, {\"title\": \"The AI Breakthroughs August 2025 That Changed Everything (And ...\", \"url\": \"https://www.linkedin.com/pulse/ai-breakthroughs-august-2025-changed-everything-what-lozovsky-mba-unz5c\", \"content\": \"The AI breakthroughs August 2025 delivered aren't just about better chatbots or cooler demos.\", \"score\": 0.3957184}]\n",
      "==================================\u001b[1m Ai Message \u001b[0m==================================\n",
      "\n",
      "Here's a summary of key AI developments from June to August 2025 based on the latest updates:\n",
      "\n",
      "**June 2025**  \n",
      "- **Google** launched faster, more affordable AI models and introduced voice-activated AI search.  \n",
      "- AI tools for photo organization and educational assistance were enhanced.  \n",
      "- A new AI model helped researchers analyze the human genome.  \n",
      "\n",
      "**July 2025**  \n",
      "- **Google** expanded AI Mode in Search (focused on education), creative tools for Google Photos, and personalized shopping AI.  \n",
      "- **DeepMind** unveiled an AI to assist historians in interpreting ancient texts.  \n",
      "- Google also announced AI applications for planetary mapping and energy infrastructure.  \n",
      "\n",
      "**August 2025**  \n",
      "- A **Chinese research team** developed a four-legged AI robot capable of real-time badminton play with humans.  \n",
      "- **OpenAI** previewed GPT-5 (expected summer 2025 release).  \n",
      "- **Meta** invested $14 billion in Scale AI to advance large-scale AI projects.  \n",
      "\n",
      "Additional highlights include the FDA adopting an agency-wide AI tool and breakthroughs in AI-driven cybersecurity. For deeper dives, check the [June updates](https://blog.google/technology/ai/google-ai-updates-june-2025/) and [July updates](https://blog.google/technology/ai/google-ai-updates-july-2025/).\n"
     ]
    }
   ],
   "source": [
    "messages=graph.invoke({\"messages\":\"give me the latest AI news from june to august\"})\n",
    "for m in messages['messages']:\n",
    "    m.pretty_print()"
   ]
  },
  {
   "cell_type": "code",
   "execution_count": null,
   "id": "6d88042a",
   "metadata": {},
   "outputs": [
    {
     "name": "stdout",
     "output_type": "stream",
     "text": [
      "================================\u001b[1m Human Message \u001b[0m=================================\n",
      "\n",
      "tell me about the recent deepseek model and who developed it\n",
      "==================================\u001b[1m Ai Message \u001b[0m==================================\n",
      "Tool Calls:\n",
      "  tavily_search_results_json (f66zka4a3)\n",
      " Call ID: f66zka4a3\n",
      "  Args:\n",
      "    query: recent DeepSeek model and who developed it\n",
      "=================================\u001b[1m Tool Message \u001b[0m=================================\n",
      "Name: tavily_search_results_json\n",
      "\n",
      "[{\"title\": \"DeepSeek Coder\", \"url\": \"https://deepseekcoder.github.io/\", \"content\": \"DeepSeek Coder comprises a series of code language models trained from scratch on both 87% code and 13% natural language in English and Chinese.\", \"score\": 0.98535}, {\"title\": \"Change Log - DeepSeek API Docs\", \"url\": \"https://api-docs.deepseek.com/updates\", \"content\": \"The DeepSeek V2 Chat and DeepSeek Coder V2 models have been merged and upgraded into the new model, DeepSeek V2.5. For backward compatibility, API users can\", \"score\": 0.98341}, {\"title\": \"DeepSeek - Hugging Face\", \"url\": \"https://huggingface.co/deepseek-ai\", \"content\": \"DeepSeek (深度求索), founded in 2023, is a Chinese company dedicated to making AGI a reality. Unravel the mystery of AGI with curiosity.\", \"score\": 0.97821}, {\"title\": \"DeepSeek - Wikipedia\", \"url\": \"https://en.wikipedia.org/wiki/DeepSeek\", \"content\": \"Development and release history ; DeepSeek V3, December 2024, Active, DeepSeek-V3-Base DeepSeek-V3 (a chat model), The architecture is essentially the same as V2\", \"score\": 0.97805}, {\"title\": \"DeepSeek Coder: Let the Code Write Itself - GitHub\", \"url\": \"https://github.com/deepseek-ai/DeepSeek-Coder\", \"content\": \"DeepSeek Coder is composed of a series of code language models, each trained from scratch on 2T tokens, with a composition of 87% code and 13% natural language.\", \"score\": 0.97565}]\n",
      "==================================\u001b[1m Ai Message \u001b[0m==================================\n",
      "\n",
      "The **DeepSeek** model series is developed by **DeepSeek (深度求索)**, a Chinese company founded in 2023 that focuses on advancing artificial general intelligence (AGI). Here are key details about their recent developments:\n",
      "\n",
      "1. **DeepSeek V3** (December 2024):  \n",
      "   - The latest version as of December 2024, with variants like `DeepSeek-V3-Base` and a chat-oriented model.  \n",
      "   - Architecture improvements over previous versions (e.g., V2.5), maintaining consistency with earlier designs while enhancing performance.\n",
      "\n",
      "2. **DeepSeek Coder Series**:  \n",
      "   - Specialized code-writing models trained on **2 trillion tokens**, with **87% code** and **13% natural language** (in English and Chinese).  \n",
      "   - Designed for tasks like code generation, debugging, and multi-language programming.\n",
      "\n",
      "3. **DeepSeek V2.5**:  \n",
      "   - A merged and upgraded version of `DeepSeek V2 Chat` and `DeepSeek Coder V2`, ensuring backward API compatibility.\n",
      "\n",
      "The company emphasizes training models from scratch using large-scale datasets and has open-sourced some projects (e.g., on Hugging Face and GitHub). For more details, see their [website](https://deepseekcoder.github.io/) or [Wikipedia page](https://en.wikipedia.org/wiki/DeepSeek).\n"
     ]
    }
   ],
   "source": [
    "messages=graph.invoke({\"messages\":\"tell me about the recent deepseek model and who developed it\"})\n",
    "for m in messages['messages']:\n",
    "    m.pretty_print()"
   ]
  },
  {
   "cell_type": "code",
   "execution_count": null,
   "id": "bb514d70",
   "metadata": {},
   "outputs": [
    {
     "data": {
      "image/png": "[encoded data removed]",
      "text/plain": [
       "<IPython.core.display.Image object>"
      ]
     },
     "metadata": {},
     "output_type": "display_data"
    }
   ],
   "source": [
    "from langgraph.checkpoint.memory import MemorySaver\n",
    "memory=MemorySaver()\n",
    "graph_memory = builder.compile(checkpointer=memory)\n",
    "\n",
    "# View\n",
    "display(Image(graph_memory.get_graph().draw_mermaid_png()))"
   ]
  },
  {
   "cell_type": "code",
   "execution_count": null,
   "id": "bff65057",
   "metadata": {},
   "outputs": [
    {
     "name": "stdout",
     "output_type": "stream",
     "text": [
      "================================\u001b[1m Human Message \u001b[0m=================================\n",
      "\n",
      "Add 12 and 13.\n",
      "==================================\u001b[1m Ai Message \u001b[0m==================================\n",
      "Tool Calls:\n",
      "  add (vtgkxwc4k)\n",
      " Call ID: vtgkxwc4k\n",
      "  Args:\n",
      "    a: 12\n",
      "    b: 13\n",
      "=================================\u001b[1m Tool Message \u001b[0m=================================\n",
      "Name: add\n",
      "\n",
      "25\n",
      "==================================\u001b[1m Ai Message \u001b[0m==================================\n",
      "\n",
      "The sum of 12 and 13 is **25**.\n"
     ]
    }
   ],
   "source": [
    "from langchain_core.messages import HumanMessage\n",
    "\n",
    "## Specify the thread\n",
    "\n",
    "config={\"configurable\":{\"thread_id\":\"1\"}}\n",
    "# Specify an input\n",
    "messages = [HumanMessage(content=\"Add 12 and 13.\")]\n",
    "messages=graph_memory.invoke({\"messages\":messages},config=config)\n",
    "for m in messages['messages']:\n",
    "    m.pretty_print()"
   ]
  },
  {
   "cell_type": "code",
   "execution_count": null,
   "id": "13b42e91",
   "metadata": {},
   "outputs": [
    {
     "name": "stdout",
     "output_type": "stream",
     "text": [
      "================================\u001b[1m Human Message \u001b[0m=================================\n",
      "\n",
      "Add 12 and 13.\n",
      "==================================\u001b[1m Ai Message \u001b[0m==================================\n",
      "Tool Calls:\n",
      "  add (vtgkxwc4k)\n",
      " Call ID: vtgkxwc4k\n",
      "  Args:\n",
      "    a: 12\n",
      "    b: 13\n",
      "=================================\u001b[1m Tool Message \u001b[0m=================================\n",
      "Name: add\n",
      "\n",
      "25\n",
      "==================================\u001b[1m Ai Message \u001b[0m==================================\n",
      "\n",
      "The sum of 12 and 13 is **25**.\n",
      "================================\u001b[1m Human Message \u001b[0m=================================\n",
      "\n",
      "add that number to 25\n",
      "==================================\u001b[1m Ai Message \u001b[0m==================================\n",
      "Tool Calls:\n",
      "  add (xbgdexhmx)\n",
      " Call ID: xbgdexhmx\n",
      "  Args:\n",
      "    a: 25\n",
      "    b: 25\n",
      "=================================\u001b[1m Tool Message \u001b[0m=================================\n",
      "Name: add\n",
      "\n",
      "50\n",
      "==================================\u001b[1m Ai Message \u001b[0m==================================\n",
      "\n",
      "The result of adding 25 and 25 is **50**.\n",
      "\n",
      "$$\n",
      "\\boxed{50}\n",
      "$$\n"
     ]
    }
   ],
   "source": [
    "\n",
    "messages = [HumanMessage(content=\"add that number to 25\")]\n",
    "messages=graph_memory.invoke({\"messages\":messages},config=config)\n",
    "for m in messages['messages']:\n",
    "    m.pretty_print()"
   ]
  },
  {
   "cell_type": "code",
   "execution_count": null,
   "id": "d056c99a",
   "metadata": {},
   "outputs": [
    {
     "name": "stdout",
     "output_type": "stream",
     "text": [
      "================================\u001b[1m Human Message \u001b[0m=================================\n",
      "\n",
      "Add 12 and 13.\n",
      "==================================\u001b[1m Ai Message \u001b[0m==================================\n",
      "Tool Calls:\n",
      "  add (vtgkxwc4k)\n",
      " Call ID: vtgkxwc4k\n",
      "  Args:\n",
      "    a: 12\n",
      "    b: 13\n",
      "=================================\u001b[1m Tool Message \u001b[0m=================================\n",
      "Name: add\n",
      "\n",
      "25\n",
      "==================================\u001b[1m Ai Message \u001b[0m==================================\n",
      "\n",
      "The sum of 12 and 13 is **25**.\n",
      "================================\u001b[1m Human Message \u001b[0m=================================\n",
      "\n",
      "add that number to 25\n",
      "==================================\u001b[1m Ai Message \u001b[0m==================================\n",
      "Tool Calls:\n",
      "  add (xbgdexhmx)\n",
      " Call ID: xbgdexhmx\n",
      "  Args:\n",
      "    a: 25\n",
      "    b: 25\n",
      "=================================\u001b[1m Tool Message \u001b[0m=================================\n",
      "Name: add\n",
      "\n",
      "50\n",
      "==================================\u001b[1m Ai Message \u001b[0m==================================\n",
      "\n",
      "The result of adding 25 and 25 is **50**.\n",
      "\n",
      "$$\n",
      "\\boxed{50}\n",
      "$$\n",
      "================================\u001b[1m Human Message \u001b[0m=================================\n",
      "\n",
      "then multiplty that number by 2\n",
      "==================================\u001b[1m Ai Message \u001b[0m==================================\n",
      "Tool Calls:\n",
      "  multiply (b66mhy062)\n",
      " Call ID: b66mhy062\n",
      "  Args:\n",
      "    a: 50\n",
      "    b: 2\n",
      "=================================\u001b[1m Tool Message \u001b[0m=================================\n",
      "Name: multiply\n",
      "\n",
      "100\n",
      "==================================\u001b[1m Ai Message \u001b[0m==================================\n",
      "\n",
      "The result of multiplying 50 by 2 is **100**.\n",
      "\n",
      "$$\n",
      "\\boxed{100}\n",
      "$$\n"
     ]
    }
   ],
   "source": [
    "messages = [HumanMessage(content=\"then multiplty that number by 2\")]\n",
    "messages=graph_memory.invoke({\"messages\":messages},config=config)\n",
    "for m in messages['messages']:\n",
    "    m.pretty_print()"
   ]
  }
 ],
 "metadata": {
  "kernelspec": {
   "display_name": "LangGRAPH_basics",
   "language": "python",
   "name": "python3"
  },
  "language_info": {
   "codemirror_mode": {
    "name": "ipython",
    "version": 3
   },
   "file_extension": ".py",
   "mimetype": "text/x-python",
   "name": "python",
   "nbconvert_exporter": "python",
   "pygments_lexer": "ipython3",
   "version": "3.12.11"
  }
 },
 "nbformat": 4,
 "nbformat_minor": 5
}
