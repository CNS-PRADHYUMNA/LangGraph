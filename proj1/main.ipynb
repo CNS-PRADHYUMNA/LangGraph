{
 "cells": [
  {
   "cell_type": "code",
   "execution_count": 45,
   "id": "d8e25283",
   "metadata": {},
   "outputs": [],
   "source": [
    "import os \n",
    "from dotenv import load_dotenv\n",
    "\n",
    "load_dotenv()\n",
    "\n",
    "os.environ['GroqApi']=os.getenv('GROQ_API_KEY')\n",
    "os.environ['TavilyApi']=os.getenv('TAVILY_API_KEY')\n",
    "\n"
   ]
  },
  {
   "cell_type": "code",
   "execution_count": 46,
   "id": "13c80c4a",
   "metadata": {},
   "outputs": [
    {
     "name": "stdout",
     "output_type": "stream",
     "text": [
      "I don't have a personal name, but I'm an AI designed to assist and communicate with users in a helpful and informative way. You can think of me as a conversational AI assistant. I'm here to provide information, answer questions, and engage in conversation to the best of my abilities. How can I assist you today?\n"
     ]
    }
   ],
   "source": [
    "from langchain_groq import ChatGroq\n",
    "\n",
    "llm = ChatGroq(model=\"llama-3.1-8b-instant\" )\n",
    "\n",
    "res = llm.invoke(\"hello what is your name?\")\n",
    "print(res.content)"
   ]
  },
  {
   "cell_type": "code",
   "execution_count": 48,
   "id": "8af7877f",
   "metadata": {},
   "outputs": [
    {
     "name": "stderr",
     "output_type": "stream",
     "text": [
      "c:\\Users\\chris\\OneDrive\\Desktop\\Gen-ai\\LangGRAPH_basics\\.venv\\Lib\\site-packages\\langchain_community\\utilities\\arxiv.py:105: DeprecationWarning: The 'Search.results' method is deprecated, use 'Client.results' instead\n",
      "  ).results()\n",
      "c:\\Users\\chris\\OneDrive\\Desktop\\Gen-ai\\LangGRAPH_basics\\.venv\\Lib\\site-packages\\langchain_community\\utilities\\duckduckgo_search.py:63: RuntimeWarning: This package (`duckduckgo_search`) has been renamed to `ddgs`! Use `pip install ddgs` instead.\n",
      "  with DDGS() as ddgs:\n"
     ]
    }
   ],
   "source": [
    "from langchain_community.tools import ArxivQueryRun, WikipediaQueryRun, DuckDuckGoSearchRun\n",
    "from langchain_community.utilities import WikipediaAPIWrapper, ArxivAPIWrapper, DuckDuckGoSearchAPIWrapper\n",
    "\n",
    "# Initialize wrappers\n",
    "arxiv_wrapper = ArxivAPIWrapper(top_k_results=3, doc_content_chars_max=1000)\n",
    "wikipedia_wrapper = WikipediaAPIWrapper(top_k_results=3, doc_content_chars_max=1000)\n",
    "duckduckgo_wrapper = DuckDuckGoSearchAPIWrapper(max_results=3)\n",
    "\n",
    "# Initialize tools\n",
    "arxiv_tool = ArxivQueryRun(api_wrapper=arxiv_wrapper)\n",
    "wikipedia_tool = WikipediaQueryRun(api_wrapper=wikipedia_wrapper)\n",
    "duckduckgo_tool = DuckDuckGoSearchRun(api_wrapper=duckduckgo_wrapper)\n",
    "\n",
    "# Testing the tools\n",
    "arxiv_results = arxiv_tool.invoke(\"attention is all you need\")\n",
    "wikipedia_results = wikipedia_tool.invoke(\"GenAi in finance\")\n",
    "duckduckgo_results = duckduckgo_tool.invoke(\"when did chatgpt 5 or gpt5 released?\")\n",
    "\n",
    "\n"
   ]
  },
  {
   "cell_type": "code",
   "execution_count": 49,
   "id": "c39eb079",
   "metadata": {},
   "outputs": [
    {
     "name": "stdout",
     "output_type": "stream",
     "text": [
      "Arxiv: Published: 2024-07-22\n",
      "Title: Attention Is All You Need But You Don't Need All Of It For Inference of Large Language Models\n",
      "Authors: Georgy Tyukin, Gbetondji J-S Dovonon, Jean Kaddour, Pasquale Minervini\n",
      "Summary: The inference demand for LLMs has skyrocketed in recent months, and serving\n",
      "models with low latencies remains challenging due to the quadratic input length\n",
      "complexity of the attention layers. In this work, we investigate the effect of\n",
      "dropping MLP and attention layers at inference time on the performance of\n",
      "Llama-v2 models. We find that dropping dreeper attention layers only marginally\n",
      "decreases performance but leads to the best speedups alongside dropping entire\n",
      "layers. For example, removing 33\\% of attention layers in a 13B Llama2 model\n",
      "results in a 1.8\\% drop in average performance over the OpenLLM benchmark. We\n",
      "also observe that skipping layers except the latter layers reduces performances\n",
      "for more layers skipped, except for skipping the attention layers.\n",
      "\n",
      "Published: 2021-0\n"
     ]
    }
   ],
   "source": [
    "print(\"Arxiv:\", arxiv_results)\n"
   ]
  },
  {
   "cell_type": "code",
   "execution_count": 50,
   "id": "142c97ce",
   "metadata": {},
   "outputs": [
    {
     "name": "stdout",
     "output_type": "stream",
     "text": [
      "Wikipedia: Page: Generative artificial intelligence\n",
      "Summary: Generative artificial intelligence (Generative AI, GenAI, or GAI) is a subfield of artificial intelligence that uses generative models to produce text, images, videos, or other forms of data. These models learn the underlying patterns and structures of their training data and use them to produce new data based on the input, which often comes in the form of natural language prompts.\n",
      "Generative AI tools have become more common since the AI boom in the 2020s. This boom was made possible by improvements in transformer-based deep neural networks, particularly large language models (LLMs). Major tools include chatbots such as ChatGPT, Copilot, Gemini, Claude, Grok, and DeepSeek; text-to-image models such as Stable Diffusion, Midjourney, and DALL-E; and text-to-video models such as Veo and Sora. Technology companies developing generative AI include OpenAI, xAI, Anthropic, Meta AI, Microsoft, Google, DeepSeek, and Baidu. \n",
      "Generative AI is used \n"
     ]
    }
   ],
   "source": [
    "print(\"Wikipedia:\", wikipedia_results)\n"
   ]
  },
  {
   "cell_type": "code",
   "execution_count": 51,
   "id": "e00edfc9",
   "metadata": {},
   "outputs": [
    {
     "name": "stdout",
     "output_type": "stream",
     "text": [
      "DuckDuckGo: Aug 13, 2025 · OpenAI released its newest GPT model, GPT-5, which runs ChatGPT, in August 2025. Learn about its key features and how it … Aug 7, 2025 · The release of GPT-5 has been fueled by an unprecedented funding surge, as OpenAI closed a $40 billion funding round in … OpenAI had been building hype for GPT-5, and today, 7 August, it has finally released the all-new model for everyone. The company is …\n"
     ]
    }
   ],
   "source": [
    "print(\"DuckDuckGo:\", duckduckgo_results)"
   ]
  },
  {
   "cell_type": "code",
   "execution_count": 52,
   "id": "692941fd",
   "metadata": {},
   "outputs": [],
   "source": [
    "tools=[arxiv_tool, wikipedia_tool]"
   ]
  },
  {
   "cell_type": "code",
   "execution_count": 53,
   "id": "9d13e24a",
   "metadata": {},
   "outputs": [],
   "source": [
    "llm_with_tools=llm.bind_tools(tools)"
   ]
  },
  {
   "cell_type": "code",
   "execution_count": 54,
   "id": "702e231c",
   "metadata": {},
   "outputs": [
    {
     "data": {
      "text/plain": [
       "AIMessage(content='', additional_kwargs={'tool_calls': [{'id': '1cyj62cy0', 'function': {'arguments': '{\"query\":\"1706.03762\"}', 'name': 'arxiv'}, 'type': 'function'}]}, response_metadata={'token_usage': {'completion_tokens': 19, 'prompt_tokens': 435, 'total_tokens': 454, 'completion_time': 0.025218573, 'prompt_time': 0.039104842, 'queue_time': 0.893725989, 'total_time': 0.064323415}, 'model_name': 'llama-3.1-8b-instant', 'system_fingerprint': 'fp_510c177af0', 'service_tier': 'on_demand', 'finish_reason': 'tool_calls', 'logprobs': None}, id='run--58b001a4-4a8a-4df6-9c1a-0caa40c1a1b8-0', tool_calls=[{'name': 'arxiv', 'args': {'query': '1706.03762'}, 'id': '1cyj62cy0', 'type': 'tool_call'}], usage_metadata={'input_tokens': 435, 'output_tokens': 19, 'total_tokens': 454})"
      ]
     },
     "execution_count": 54,
     "metadata": {},
     "output_type": "execute_result"
    }
   ],
   "source": [
    "from pprint import pprint\n",
    "from langchain_core.messages import AIMessage, HumanMessage\n",
    "llm_with_tools.invoke([HumanMessage(content=f\"1706.03762\")])"
   ]
  },
  {
   "cell_type": "code",
   "execution_count": 44,
   "id": "617220d1",
   "metadata": {},
   "outputs": [
    {
     "data": {
      "text/plain": [
       "[{'name': 'wikipedia',\n",
       "  'args': {'query': 'GenAI'},\n",
       "  'id': '6da2ksw41',\n",
       "  'type': 'tool_call'}]"
      ]
     },
     "execution_count": 44,
     "metadata": {},
     "output_type": "execute_result"
    }
   ],
   "source": [
    "from pprint import pprint\n",
    "from langchain_core.messages import AIMessage, HumanMessage\n",
    "llm_with_tools.invoke([HumanMessage(content=f\"genAI\")]).tool_calls\n"
   ]
  },
  {
   "cell_type": "code",
   "execution_count": 34,
   "id": "528d0bf9",
   "metadata": {},
   "outputs": [],
   "source": [
    "from typing_extensions import TypedDict\n",
    "from langchain_core.messages import AnyMessage\n",
    "from typing import Annotated\n",
    "from langgraph.graph.message import add_messages\n",
    "\n",
    "\n",
    "class State(TypedDict):\n",
    "    messages:Annotated[list[AnyMessage],add_messages]\n",
    "    mode: str"
   ]
  },
  {
   "cell_type": "code",
   "execution_count": 72,
   "id": "4620619e",
   "metadata": {},
   "outputs": [
    {
     "data": {
      "image/png": "[encoded data removed]",
      "text/plain": [
       "<IPython.core.display.Image object>"
      ]
     },
     "metadata": {},
     "output_type": "display_data"
    }
   ],
   "source": [
    "from IPython.display import Image, display\n",
    "from langgraph.graph import StateGraph, START, END\n",
    "from langgraph.prebuilt import ToolNode, tools_condition\n",
    "\n",
    "# --- Node definitions ---\n",
    "def tool_calling_llm(state: State):\n",
    "    print(state['mode'])\n",
    "    print(state['messages'][0].content)\n",
    "    return {\"messages\": [llm_with_tools.invoke(state[\"messages\"])]}\n",
    "\n",
    "def news_llm(state: State):\n",
    "    ip = state[\"messages\"][0].content\n",
    "    print(state['mode'])\n",
    "    print(state['messages'][0].content)\n",
    "    return {\"messages\": [duckduckgo_tool.invoke(ip)]}\n",
    "\n",
    "\n",
    "\n",
    "# --- Normal bot node ---\n",
    "def normal_llm(state: State):\n",
    "    print(state['mode'])\n",
    "    print(state['messages'])\n",
    "    return {\"messages\": [llm.invoke(state[\"messages\"])]}\n",
    "\n",
    "\n",
    "# --- Router function ---\n",
    "def usecase_condition(state:State):\n",
    "    mode = state.get(\"mode\", \"normal\")\n",
    "\n",
    "    if mode == \"tools\":\n",
    "        return \"tool_calling_llm\"\n",
    "    elif mode == \"news\":\n",
    "        return \"news\"\n",
    "    else:  # normal bot\n",
    "        return \"tool_calling_llm_normal\"\n",
    "    \n",
    "    \n",
    "# --- Build graph ---\n",
    "builder = StateGraph(State)\n",
    "\n",
    "builder.add_node(\"tool_calling_llm\", tool_calling_llm)\n",
    "builder.add_node(\"tools\", ToolNode(tools))\n",
    "builder.add_node(\"news\", news_llm)\n",
    "builder.add_node(\"tool_calling_llm_normal\", normal_llm)\n",
    "\n",
    "# Router: START → based on user mode\n",
    "builder.add_conditional_edges(\n",
    "    START,\n",
    "    usecase_condition,\n",
    "    {\n",
    "        \"tool_calling_llm\": \"tool_calling_llm\",\n",
    "        \"news\": \"news\",\n",
    "        \"tool_calling_llm_normal\": \"tool_calling_llm_normal\",\n",
    "    }\n",
    ")\n",
    "\n",
    "# Tools loop\n",
    "builder.add_conditional_edges(\"tool_calling_llm\", tools_condition)\n",
    "builder.add_edge(\"tools\", \"tool_calling_llm\")\n",
    "\n",
    "# Finish paths\n",
    "builder.add_edge(\"news\", END)\n",
    "builder.add_edge(\"tool_calling_llm_normal\", END)\n",
    "\n",
    "graph = builder.compile()\n",
    "\n",
    "# View\n",
    "display(Image(graph.get_graph().draw_mermaid_png()))\n"
   ]
  },
  {
   "cell_type": "code",
   "execution_count": 73,
   "id": "4cc0e7ad",
   "metadata": {},
   "outputs": [
    {
     "name": "stdout",
     "output_type": "stream",
     "text": [
      "tools\n",
      "1706.03762\n"
     ]
    },
    {
     "name": "stderr",
     "output_type": "stream",
     "text": [
      "c:\\Users\\chris\\OneDrive\\Desktop\\Gen-ai\\LangGRAPH_basics\\.venv\\Lib\\site-packages\\langchain_community\\utilities\\arxiv.py:102: DeprecationWarning: The 'Search.results' method is deprecated, use 'Client.results' instead\n",
      "  ).results()\n"
     ]
    },
    {
     "name": "stdout",
     "output_type": "stream",
     "text": [
      "tools\n",
      "1706.03762\n",
      "tools\n",
      "1706.03762\n",
      "================================\u001b[1m Human Message \u001b[0m=================================\n",
      "\n",
      "1706.03762\n",
      "==================================\u001b[1m Ai Message \u001b[0m==================================\n",
      "Tool Calls:\n",
      "  arxiv (x8vfsrye8)\n",
      " Call ID: x8vfsrye8\n",
      "  Args:\n",
      "    query: 1706.03762\n",
      "=================================\u001b[1m Tool Message \u001b[0m=================================\n",
      "Name: arxiv\n",
      "\n",
      "Published: 2023-08-02\n",
      "Title: Attention Is All You Need\n",
      "Authors: Ashish Vaswani, Noam Shazeer, Niki Parmar, Jakob Uszkoreit, Llion Jones, Aidan N. Gomez, Lukasz Kaiser, Illia Polosukhin\n",
      "Summary: The dominant sequence transduction models are based on complex recurrent or\n",
      "convolutional neural networks in an encoder-decoder configuration. The best\n",
      "performing models also connect the encoder and decoder through an attention\n",
      "mechanism. We propose a new simple network architecture, the Transformer, based\n",
      "solely on attention mechanisms, dispensing with recurrence and convolutions\n",
      "entirely. Experiments on two machine translation tasks show these models to be\n",
      "superior in quality while being more parallelizable and requiring significantly\n",
      "less time to train. Our model achieves 28.4 BLEU on the WMT 2014\n",
      "English-to-German translation task, improving over the existing best results,\n",
      "including ensembles by over 2 BLEU. On the WMT 2014 English-to-French\n",
      "translation task, our model establishes a new sing\n",
      "==================================\u001b[1m Ai Message \u001b[0m==================================\n",
      "Tool Calls:\n",
      "  wikipedia (8zatajh7t)\n",
      " Call ID: 8zatajh7t\n",
      "  Args:\n",
      "    query: Attention Is All You Need\n",
      "=================================\u001b[1m Tool Message \u001b[0m=================================\n",
      "Name: wikipedia\n",
      "\n",
      "Page: Attention Is All You Need\n",
      "Summary: \"Attention Is All You Need\" is a 2017 landmark research paper in machine learning authored by eight scientists working at Google. The paper introduced a new deep learning architecture known as the transformer, based on the attention mechanism proposed in 2014 by Bahdanau et al. It is considered a foundational paper in modern artificial intelligence, and a main contributor to the AI boom, as the transformer approach has become the main architecture of a wide variety of AI, such as large language models. At the time, the focus of the research was on improving Seq2seq techniques for machine translation, but the authors go further in the paper, foreseeing the technique's potential for other tasks like question answering and what is now known as multimodal generative AI.\n",
      "The paper's title is a reference to the song \"All You Need Is Love\" by the Beatles. The name \"Transformer\" was picked because Jakob Uszkoreit, one of the paper's authors, liked the s\n",
      "==================================\u001b[1m Ai Message \u001b[0m==================================\n",
      "\n",
      "<brave_search> What are the current applications of the transformer model in AI?\n"
     ]
    }
   ],
   "source": [
    "messages=graph.invoke({\"messages\":HumanMessage(content=\"1706.03762\"),\"mode\":\"tools\"})\n",
    "for m in messages['messages']:\n",
    "    m.pretty_print()"
   ]
  },
  {
   "cell_type": "code",
   "execution_count": 61,
   "id": "60fdacc4",
   "metadata": {},
   "outputs": [
    {
     "name": "stdout",
     "output_type": "stream",
     "text": [
      "normal\n",
      "================================\u001b[1m Human Message \u001b[0m=================================\n",
      "\n",
      "write a poem on a person named mithila girl who is loved by kolol boy\n",
      "==================================\u001b[1m Ai Message \u001b[0m==================================\n",
      "\n",
      "In the lands of Bengal's golden shore,\n",
      "Lived a beauty, Mithila, forever more,\n",
      "A girl of elegance, with a heart so bright,\n",
      "Her smile could light up the darkest of nights.\n",
      "\n",
      "Her eyes, like the Ganges, flowed with gentle might,\n",
      "Reflecting the love that shone with delight,\n",
      "Her hair, like the blackest night, shone with a radiant glow,\n",
      "A true gem, that the Kolol boy had to know.\n",
      "\n",
      "He, a hunter, with a heart so bold,\n",
      "Fell for her charms, his love to unfold,\n",
      "He'd roam the forests, with a passion so true,\n",
      "To win her heart, and be with her anew.\n",
      "\n",
      "The Kolol boy, with a love so pure and kind,\n",
      "Would sing to her, with a voice that would bind,\n",
      "Their love would grow, like the trees in the night,\n",
      "A flame that burned, with a love so bright.\n",
      "\n",
      "Mithila, the girl, with a heart so light,\n",
      "Would listen to him, with a love so bright,\n",
      "She'd see the good, in his hunter's heart,\n",
      "And know that he loved her, from the very start.\n",
      "\n",
      "Their love would flourish, like the flowers in the sun,\n",
      "A love so strong, that would never be undone,\n",
      "The Kolol boy, and Mithila, a perfect pair,\n",
      "A love that would last, without a single care.\n",
      "\n",
      "So let their love, be a guiding light,\n",
      "For all to see, the beauty of their love so bright,\n",
      "For in the lands of Bengal, where the Ganges flows,\n",
      "Lives a love story, of the Kolol boy, and Mithila's glow.\n"
     ]
    }
   ],
   "source": [
    "messages=graph.invoke({\"messages\":\"write a poem on a person named mithila girl who is loved by kolol boy\",\"mode\":\"normal\"})\n",
    "for m in messages['messages']:\n",
    "    m.pretty_print()"
   ]
  },
  {
   "cell_type": "code",
   "execution_count": 82,
   "id": "4f0c2226",
   "metadata": {},
   "outputs": [
    {
     "name": "stdout",
     "output_type": "stream",
     "text": [
      "news\n",
      "when did llama 2 get released?\n"
     ]
    },
    {
     "name": "stderr",
     "output_type": "stream",
     "text": [
      "c:\\Users\\chris\\OneDrive\\Desktop\\Gen-ai\\LangGRAPH_basics\\.venv\\Lib\\site-packages\\langchain_community\\utilities\\duckduckgo_search.py:63: RuntimeWarning: This package (`duckduckgo_search`) has been renamed to `ddgs`! Use `pip install ddgs` instead.\n",
      "  with DDGS() as ddgs:\n"
     ]
    },
    {
     "name": "stdout",
     "output_type": "stream",
     "text": [
      "================================\u001b[1m Human Message \u001b[0m=================================\n",
      "\n",
      "when did llama 2 get released?\n",
      "================================\u001b[1m Human Message \u001b[0m=================================\n",
      "\n",
      "Aug 4, 2025 · Accessibility and Distribution: Meta has released Llama 2 under a permissive license for free personal and commercial use. Businesses with less than 700 million monthly … Feb 11, 2025 · In August 2023, Code Llama was introduced. These models were specialized for coding, with one version focusing on Python. For developers, this was a big deal — open-source … May 29, 2025 · Llama 2.0’s 2023 release (in partnership with Microsoft) broke open the closed-source mold, making advanced LLMs available for both research and commercial use (Meta …\n"
     ]
    }
   ],
   "source": [
    "messages=graph.invoke({\"messages\":\"when did llama 2 get released?\",\"mode\":\"news\"})\n",
    "for m in messages['messages']:\n",
    "    m.pretty_print()"
   ]
  }
 ],
 "metadata": {
  "kernelspec": {
   "display_name": "LangGRAPH_basics",
   "language": "python",
   "name": "python3"
  },
  "language_info": {
   "codemirror_mode": {
    "name": "ipython",
    "version": 3
   },
   "file_extension": ".py",
   "mimetype": "text/x-python",
   "name": "python",
   "nbconvert_exporter": "python",
   "pygments_lexer": "ipython3",
   "version": "3.12.11"
  }
 },
 "nbformat": 4,
 "nbformat_minor": 5
}
