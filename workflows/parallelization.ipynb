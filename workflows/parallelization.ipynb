{
 "cells": [
  {
   "cell_type": "code",
   "execution_count": 8,
   "id": "7923ca3f",
   "metadata": {},
   "outputs": [
    {
     "name": "stdout",
     "output_type": "stream",
     "text": [
      "Hello, how can I assist you today?\n"
     ]
    }
   ],
   "source": [
    "import os\n",
    "from dotenv import load_dotenv\n",
    "load_dotenv()\n",
    "\n",
    "from langchain_groq import ChatGroq\n",
    "\n",
    "os.environ[\"GROQ_API_KEY\"]=os.getenv(\"GROQ_API_KEY\")\n",
    "\n",
    "\n",
    "llm=ChatGroq(model=\"llama-3.1-8b-instant\")\n",
    "result=llm.invoke(\"Hello\")\n",
    "\n",
    "print(result.content)"
   ]
  },
  {
   "cell_type": "code",
   "execution_count": 32,
   "id": "673db778",
   "metadata": {},
   "outputs": [],
   "source": [
    "class State(TypedDict): \n",
    "    topic: str \n",
    "    Characters_and_Rels: str \n",
    "    setting_and_plot: str \n",
    "    final_story:str\n",
    "\n",
    "def genChars_rels(state: State):\n",
    "    op = llm.invoke(\n",
    "        \"you are expert at generating characters and establishing relationships \"\n",
    "        f\"between them and this topic is about {state['topic']}. \"\n",
    "        \"Just give the characters and their relationships.\"\n",
    "    )\n",
    "    return {\"Characters_and_Rels\": op.content}  \n",
    "\n",
    "\n",
    "def settingPlot(state: State):\n",
    "    op = llm.invoke(\n",
    "        \"you are expert at generating the setting and plot \"\n",
    "        f\"and this topic is about {state['topic']}. \"\n",
    "        \"Just give the setting and plot.\"\n",
    "    )\n",
    "    return {\"setting_and_plot\": op.content}\n",
    "\n",
    "\n",
    "def finalStory(state: State):\n",
    "    op = llm.invoke(\n",
    "        f\"This is the story {state['Characters_and_Rels']} and {state['setting_and_plot']}. \"\n",
    "        \"Give the final version of the story using the characters and setting and plot.\"\n",
    "    )\n",
    "    return {\"final_story\": op.content} \n"
   ]
  },
  {
   "cell_type": "code",
   "execution_count": 33,
   "id": "e7ca3925",
   "metadata": {},
   "outputs": [
    {
     "data": {
      "image/png": "[encoded data removed]",
      "text/plain": [
       "<IPython.core.display.Image object>"
      ]
     },
     "metadata": {},
     "output_type": "display_data"
    }
   ],
   "source": [
    "# Graph Building\n",
    "\n",
    "builder = StateGraph(State)\n",
    "builder.add_node(\"Characters And Relations\", genChars_rels)\n",
    "builder.add_node(\"Settings And Plot\", settingPlot)\n",
    "builder.add_node(\"finalStory\", finalStory)\n",
    "\n",
    "# Edges\n",
    "builder.add_edge(START, \"Characters And Relations\")\n",
    "builder.add_edge(START, \"Settings And Plot\")\n",
    "\n",
    "builder.add_edge(\"Characters And Relations\", \"finalStory\")\n",
    "builder.add_edge(\"Settings And Plot\", \"finalStory\")\n",
    "\n",
    "builder.add_edge(\"finalStory\", END)\n",
    "\n",
    "graph = builder.compile()\n",
    "\n",
    "# View\n",
    "display(Image(graph.get_graph().draw_mermaid_png()))"
   ]
  },
  {
   "cell_type": "code",
   "execution_count": 34,
   "id": "25757d20",
   "metadata": {},
   "outputs": [],
   "source": [
    "res=graph.invoke({\"topic\":\"born genius vs made genius\"})"
   ]
  },
  {
   "cell_type": "code",
   "execution_count": 38,
   "id": "c76f7ada",
   "metadata": {},
   "outputs": [
    {
     "name": "stdout",
     "output_type": "stream",
     "text": [
      "In the year 2050, the futuristic city of Nova Haven buzzed with intellectual pursuits and technological innovation. The city was home to the prestigious NeuroSpark Academy, a hub for cultivating genius-level intellect and exceptional abilities. The academy's students were among the brightest minds in the world, and Elianore \"Eli\" Quasar, a 17-year-old prodigy, had just been admitted to the institution with an exceptional IQ of 200.\n",
      "\n",
      "Eli's natural genius was evident in his uncanny ability to grasp complex concepts, solve intricate problems, and create revolutionary inventions. However, his past was shrouded in mystery, and his parents' identity was unknown. The academy's administrators had taken him in, providing him with a nurturing environment and exceptional resources to help him reach his full potential.\n",
      "\n",
      "As Eli navigated the challenges of NeuroSpark Academy, he met his fellow students, including Kaito Yamato, a determined and driven graduate student who had always felt pressure to live up to his parents' expectations. Kaito was willing to do whatever it took to become a genius, even if it meant sacrificing his relationships and well-being.\n",
      "\n",
      "Eli also met Lena Grant, a writer and artist who had known Rory, a child prodigy in mathematics and physics, since childhood. Lena was fiercely loyal to her friend and believed in her potential, but sometimes struggled to understand the pressures and expectations that came with being a genius.\n",
      "\n",
      "Dr. Sofia Jensen, a cognitive psychologist, was also a faculty member at NeuroSpark Academy. She was skeptical of the idea of innate genius and believed that talent could be developed through practice and learning. Sofia was critical and analytical, sometimes coming across as confrontational, but she was driven by a desire to understand the complexities of human intelligence.\n",
      "\n",
      "Dr. Elianore Quasar, a renowned physicist and mentor, had dedicated his life to teaching and mentoring. He believed that anyone could become a genius with the right guidance, resources, and hard work. Elianore was encouraging, patient, and wise, and he saw great potential in Eli.\n",
      "\n",
      "Kaida Reyes, a 25-year-old neuroscientist, had a passion for cognitive development. She became fascinated by Eli's remarkable abilities and decided to investigate the role of nurture versus nature in his exceptional cognitive abilities. Kaida's research focused on the effects of environment and upbringing on intelligence, and she was determined to prove that talent could be developed through practice and learning.\n",
      "\n",
      "As Kaida began to manipulate Eli's environment, subtly altering his experiences to test her theories, Eli started to notice the effects of her interventions. His natural abilities were enhanced, but also disrupted, and he began to question the true source of his genius.\n",
      "\n",
      "Tensions rose as Eli's relationships with his peers and mentors became increasingly complicated. Aurélien, a classmate of Eli's, began to question Eli's authenticity and the true source of his genius. Eli started to unravel the mystery of his past and the role of his unknown parents in shaping his extraordinary intellect.\n",
      "\n",
      "Meanwhile, Kaida's experiments escalated, and Eli began to feel a sense of disconnection from his natural abilities. He felt like he was losing himself in the process of becoming a \"made\" genius. Dr. Elianore Quasar, sensing Eli's distress, tried to offer guidance and support, but Kaida's actions created a rift between them.\n",
      "\n",
      "The story culminated in a dramatic confrontation between Eli, Kaida, and the NeuroSpark Academy's administrators, who were threatened by the implications of Kaida's research. Eli must choose between embracing his natural talents or embracing the possibility of being a \"made\" genius, capable of surpassing any natural limits.\n",
      "\n",
      "The outcome would determine not only Eli's future but also the future of NeuroSpark Academy and the world's understanding of intelligence and potential. In the end, Eli realized that his true potential lay in embracing both his natural talents and the possibilities of nurture and environment.\n",
      "\n",
      "\"I don't want to be just a 'made' genius,\" Eli said, looking at Kaida and the administrators. \"I want to be a genius because of who I am, not just because of what you've done to me.\"\n",
      "\n",
      "Kaida and the administrators looked at each other, and for a moment, it seemed like the whole world was holding its breath. Then, in a flash of insight, Kaida understood that Eli's genius was not just about his natural abilities, but about his capacity to learn, grow, and adapt.\n",
      "\n",
      "\"Eli, you're right,\" Kaida said, a smile spreading across her face. \"Genius is not just about nature or nurture. It's about the combination of both, and the choices we make along the way.\"\n",
      "\n",
      "The NeuroSpark Academy's administrators nodded in agreement, and the tension in the room dissipated. Eli, Kaida, and the others began to see that the debate between born and made genius was not a zero-sum game, but a complex interplay of factors that made each individual unique.\n",
      "\n",
      "As the dust settled, Eli looked at his friends and mentors, and knew that he had found a new sense of purpose. He was no longer just a prodigy, but a person with a unique perspective and a passion for learning.\n",
      "\n",
      "\"I'm not just a genius,\" Eli said, his voice filled with conviction. \"I'm a work in progress, and I'm excited to see what the future holds.\"\n",
      "\n",
      "The story of Elianore Quasar, the \"made\" genius, came to an end, but the legacy of his journey lived on, inspiring a new generation of thinkers, innovators, and explorers to push the boundaries of what it means to be human.\n"
     ]
    }
   ],
   "source": [
    "print(res[\"final_story\"])"
   ]
  }
 ],
 "metadata": {
  "kernelspec": {
   "display_name": "LangGRAPH_basics",
   "language": "python",
   "name": "python3"
  },
  "language_info": {
   "codemirror_mode": {
    "name": "ipython",
    "version": 3
   },
   "file_extension": ".py",
   "mimetype": "text/x-python",
   "name": "python",
   "nbconvert_exporter": "python",
   "pygments_lexer": "ipython3",
   "version": "3.12.11"
  }
 },
 "nbformat": 4,
 "nbformat_minor": 5
}
