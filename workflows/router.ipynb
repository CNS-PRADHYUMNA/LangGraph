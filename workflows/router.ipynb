{
 "cells": [
  {
   "cell_type": "code",
   "execution_count": 1,
   "id": "76ecc823",
   "metadata": {},
   "outputs": [
    {
     "name": "stdout",
     "output_type": "stream",
     "text": [
      "It's nice to meet you. Is there something I can help you with, or would you like to chat?\n"
     ]
    }
   ],
   "source": [
    "import os\n",
    "from dotenv import load_dotenv\n",
    "load_dotenv()\n",
    "\n",
    "from langchain_groq import ChatGroq\n",
    "\n",
    "os.environ[\"GROQ_API_KEY\"]=os.getenv(\"GROQ_API_KEY\")\n",
    "\n",
    "\n",
    "llm=ChatGroq(model=\"llama-3.1-8b-instant\")\n",
    "result=llm.invoke(\"Hello\")\n",
    "\n",
    "print(result.content)"
   ]
  },
  {
   "cell_type": "code",
   "execution_count": 18,
   "id": "e6bfb6ce",
   "metadata": {},
   "outputs": [],
   "source": [
    "from typing_extensions import Literal,TypedDict\n",
    "from pydantic import BaseModel,Field\n",
    "from langchain_core.messages import HumanMessage,AIMessage,SystemMessage\n",
    "\n",
    "\n",
    "class Route(BaseModel):\n",
    "    step:Literal[\"poem\",\"story\",\"joke\"] = Field(description=\"the next step to take\")\n",
    "\n",
    "router= llm.with_structured_output(Route)\n",
    "\n",
    "class State(TypedDict):\n",
    "    ip:str\n",
    "    decision:str\n",
    "    op:str\n",
    "\n",
    "\n",
    "# Nodes\n",
    "\n",
    "def l1(state:State):\n",
    "    \"\"\"Handles the poem generation\"\"\"\n",
    "    res=llm.invoke(state[\"ip\"])\n",
    "    return {\"op\":res.content}\n",
    "\n",
    "def l2(state:State):\n",
    "    \"\"\"Handles the joke generation\"\"\"\n",
    "    res=llm.invoke(state[\"ip\"])\n",
    "    return {\"op\":res.content}\n",
    "\n",
    "def l3(state:State):\n",
    "    \"\"\"Handles the story generation\"\"\"\n",
    "    res=llm.invoke(state[\"ip\"])\n",
    "    return {\"op\":res.content}\n",
    "\n",
    "\n",
    "def llm_router(state:State):\n",
    "    \"\"\"Handles the routing part to which node to access next\"\"\"\n",
    "\n",
    "    call=router.invoke([\n",
    "        SystemMessage(content=\"Route the input to the right node\"),\n",
    "        HumanMessage(content=state[\"ip\"])\n",
    "    ])\n",
    "    return {\"decision\":call.step}\n",
    "\n",
    "\n",
    "def route_decision(state: State):\n",
    "    if state[\"decision\"] == \"poem\":\n",
    "        return \"poem\"\n",
    "    elif state[\"decision\"] == \"story\":\n",
    "        return \"story\"\n",
    "    elif state[\"decision\"] == \"joke\":\n",
    "        return \"joke\"\n"
   ]
  },
  {
   "cell_type": "code",
   "execution_count": 19,
   "id": "86dd32c3",
   "metadata": {},
   "outputs": [
    {
     "data": {
      "image/png": "[encoded data removed]",
      "text/plain": [
       "<IPython.core.display.Image object>"
      ]
     },
     "metadata": {},
     "output_type": "display_data"
    }
   ],
   "source": [
    "from langgraph.graph import StateGraph, START, END\n",
    "from IPython.display import Image, display\n",
    "# Graph Building\n",
    "\n",
    "builder = StateGraph(State)\n",
    "builder.add_node(\"Router\", llm_router)\n",
    "builder.add_node(\"poem\", l1)\n",
    "builder.add_node(\"joke\", l2)\n",
    "builder.add_node(\"story\", l3)\n",
    "\n",
    "\n",
    "# Edges\n",
    "builder.add_edge(START, \"Router\")\n",
    "builder.add_conditional_edges(\n",
    "    \"Router\",\n",
    "    route_decision,\n",
    "    {\n",
    "        \"poem\": \"poem\",\n",
    "        \"joke\": \"joke\",\n",
    "        \"story\": \"story\"\n",
    "    }\n",
    ")\n",
    "\n",
    "builder.add_edge(\"poem\", END)\n",
    "builder.add_edge(\"joke\", END)\n",
    "builder.add_edge(\"story\", END)\n",
    "\n",
    "\n",
    "\n",
    "graph = builder.compile()\n",
    "\n",
    "# View\n",
    "display(Image(graph.get_graph().draw_mermaid_png()))"
   ]
  },
  {
   "cell_type": "code",
   "execution_count": 25,
   "id": "d0753661",
   "metadata": {},
   "outputs": [],
   "source": [
    "res=graph.invoke({\"ip\":\"give a dialogue on fire and water\"})"
   ]
  },
  {
   "cell_type": "code",
   "execution_count": 26,
   "id": "23f34ca3",
   "metadata": {},
   "outputs": [
    {
     "name": "stdout",
     "output_type": "stream",
     "text": [
      "**Scene: A serene lake on a sunny afternoon. Two friends, Alex and Maya, are sitting on a wooden dock, watching the sunlight dance on the water.**\n",
      "\n",
      "**Alex:** Maya, have you ever thought about how fire and water are two opposing forces in nature?\n",
      "\n",
      "**Maya:** (nods) I have. It's like they're two sides of the same coin. Fire represents destruction and chaos, while water represents calmness and serenity.\n",
      "\n",
      "**Alex:** Exactly. But what if I told you that fire and water aren't mutually exclusive? In fact, they can even complement each other.\n",
      "\n",
      "**Maya:** (raises an eyebrow) How do you mean?\n",
      "\n",
      "**Alex:** Think about it. Water can extinguish fire, but it can also be used to create steam, which can be used to power machines and generate energy. And have you ever seen a beautiful sunset over a body of water? The way the light from the fire dances on the water's surface is breathtaking.\n",
      "\n",
      "**Maya:** (smiles) I see what you mean. Fire and water can work together to create something beautiful.\n",
      "\n",
      "**Alex:** Exactly. And it's not just limited to natural phenomena. In some cultures, fire and water are seen as complementary elements. For example, in some spiritual traditions, fire represents the masculine principle, while water represents the feminine principle. Together, they create balance and harmony.\n",
      "\n",
      "**Maya:** (nods) That makes sense. I never thought about it that way before. But what about the idea that fire and water are opposites? Don't they represent conflicting forces?\n",
      "\n",
      "**Alex:** (smiles) Ah, yes. That's a valid point. Fire and water do represent opposing forces, and they can also be seen as conflicting elements. But the key is to understand that conflict can be a catalyst for growth and change. Think about it: without the opposing force of water, fire would burn out of control and destroy everything in its path. And without the opposing force of fire, water would freeze and stagnate.\n",
      "\n",
      "**Maya:** (nods) I see what you mean. Fire and water may seem like opposing forces, but they're actually interconnected and interdependent.\n",
      "\n",
      "**Alex:** Exactly. And that's what makes them so beautiful and fascinating. They represent the dualities of life, and the way they interact and influence each other is what makes the world such a complex and fascinating place.\n",
      "\n",
      "**Maya:** (smiles) I never thought about it that way before. Thanks for sharing your insights, Alex.\n",
      "\n",
      "**Alex:** (smiles back) Anytime, Maya. That's what friends are for.\n"
     ]
    }
   ],
   "source": [
    "print(res[\"op\"])"
   ]
  }
 ],
 "metadata": {
  "kernelspec": {
   "display_name": "LangGRAPH_basics",
   "language": "python",
   "name": "python3"
  },
  "language_info": {
   "codemirror_mode": {
    "name": "ipython",
    "version": 3
   },
   "file_extension": ".py",
   "mimetype": "text/x-python",
   "name": "python",
   "nbconvert_exporter": "python",
   "pygments_lexer": "ipython3",
   "version": "3.12.11"
  }
 },
 "nbformat": 4,
 "nbformat_minor": 5
}
