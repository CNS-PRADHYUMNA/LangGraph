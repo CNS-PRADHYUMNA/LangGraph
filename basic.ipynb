{
 "cells": [
  {
   "cell_type": "code",
   "execution_count": 116,
   "id": "e1126ff0",
   "metadata": {},
   "outputs": [],
   "source": [
    "from typing_extensions import TypedDict\n",
    "\n",
    "class State(TypedDict):\n",
    "    info:str"
   ]
  },
  {
   "cell_type": "code",
   "execution_count": 117,
   "id": "d01de1d2",
   "metadata": {},
   "outputs": [],
   "source": [
    "def start_play(state:State):\n",
    "    return {\"info\":state[\"info\"]}\n"
   ]
  },
  {
   "cell_type": "code",
   "execution_count": 118,
   "id": "249d07de",
   "metadata": {},
   "outputs": [],
   "source": [
    "def badminton(state:State):\n",
    "    return {\"info\":state[\"info\"]+\"We are planning to play badminton.\"}"
   ]
  },
  {
   "cell_type": "code",
   "execution_count": 119,
   "id": "29a30773",
   "metadata": {},
   "outputs": [],
   "source": [
    "def football(state:State):\n",
    "    return {\"info\":state[\"info\"]+\"We are  planning to play football.\"}"
   ]
  },
  {
   "cell_type": "code",
   "execution_count": 120,
   "id": "18c4ee2c",
   "metadata": {},
   "outputs": [],
   "source": [
    "import random\n",
    "from typing import Literal\n",
    "\n",
    "def random_play(state:State)-> Literal['football','badminton']:\n",
    "    info=state['info']\n",
    "\n",
    "    if random.random()>0.5:\n",
    "        return \"football\"\n",
    "    else:\n",
    "        return \"badminton\""
   ]
  },
  {
   "cell_type": "code",
   "execution_count": 121,
   "id": "51a4402a",
   "metadata": {},
   "outputs": [],
   "source": [
    "from langgraph.graph import StateGraph,START,END\n"
   ]
  },
  {
   "cell_type": "code",
   "execution_count": 122,
   "id": "89d393d9",
   "metadata": {},
   "outputs": [],
   "source": [
    "\n",
    "graph_builder=StateGraph(State)"
   ]
  },
  {
   "cell_type": "code",
   "execution_count": 123,
   "id": "59be031e",
   "metadata": {},
   "outputs": [],
   "source": [
    "graph_builder.add_node(\"start_play\",start_play)\n",
    "graph_builder.add_node(\"badminton\",badminton)\n",
    "graph_builder.add_node(\"football\",football)\n",
    "\n",
    "\n",
    "graph_builder.add_edge(START,\"start_play\")\n",
    "graph_builder.add_conditional_edges(\"start_play\",random_play)\n",
    "graph_builder.add_edge(\"badminton\",END)\n",
    "graph_builder.add_edge(\"football\",END)\n",
    "\n",
    "\n",
    "\n",
    "graph=graph_builder.compile()\n",
    "\n",
    "\n"
   ]
  },
  {
   "cell_type": "code",
   "execution_count": 124,
   "id": "cf51c2eb",
   "metadata": {},
   "outputs": [
    {
     "data": {
      "image/png": "[encoded data removed]",
      "text/plain": [
       "<IPython.core.display.Image object>"
      ]
     },
     "metadata": {},
     "output_type": "display_data"
    }
   ],
   "source": [
    "from IPython.display import Image, display\n",
    "try:\n",
    "  display(Image(graph.get_graph().draw_mermaid_png()))\n",
    "except:\n",
    "  Pass"
   ]
  },
  {
   "cell_type": "code",
   "execution_count": 129,
   "id": "aacbe748",
   "metadata": {},
   "outputs": [
    {
     "data": {
      "text/plain": [
       "{'info': 'what are we playing today?  We are planning to play badminton.'}"
      ]
     },
     "execution_count": 129,
     "metadata": {},
     "output_type": "execute_result"
    }
   ],
   "source": [
    "graph.invoke({\"info\": \"what are we playing today?  \"})"
   ]
  }
 ],
 "metadata": {
  "kernelspec": {
   "display_name": "LangGRAPH_basics",
   "language": "python",
   "name": "python3"
  },
  "language_info": {
   "codemirror_mode": {
    "name": "ipython",
    "version": 3
   },
   "file_extension": ".py",
   "mimetype": "text/x-python",
   "name": "python",
   "nbconvert_exporter": "python",
   "pygments_lexer": "ipython3",
   "version": "3.12.11"
  }
 },
 "nbformat": 4,
 "nbformat_minor": 5
}
