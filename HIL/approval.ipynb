{
 "cells": [
  {
   "cell_type": "code",
   "execution_count": 1,
   "id": "1bc44089",
   "metadata": {},
   "outputs": [
    {
     "name": "stdout",
     "output_type": "stream",
     "text": [
      "Hello. How can I help you today?\n"
     ]
    }
   ],
   "source": [
    "import os\n",
    "from dotenv import load_dotenv\n",
    "load_dotenv()\n",
    "\n",
    "from langchain_groq import ChatGroq\n",
    "\n",
    "os.environ[\"GROQ_API_KEY\"]=os.getenv(\"GROQ_API_KEY\")\n",
    "\n",
    "\n",
    "llm=ChatGroq(model=\"llama-3.1-8b-instant\")\n",
    "result=llm.invoke(\"Hello\")\n",
    "\n",
    "print(result.content)\n"
   ]
  },
  {
   "cell_type": "code",
   "execution_count": 2,
   "id": "0f18925c",
   "metadata": {},
   "outputs": [],
   "source": [
    "# custom tools\n",
    "\n",
    "def add(a,b):\n",
    "    \"\"\"Add two numbers\"\"\"\n",
    "    return a+b\n",
    "\n",
    "def multiply(a,b):\n",
    "    \"\"\"Multiply two numbers\"\"\"\n",
    "    return a*b\n",
    "\n",
    "def subtract(a,b):\n",
    "    \"\"\"Subtract two numbers\"\"\"\n",
    "    return a-b\n",
    "\n",
    "\n",
    "tools=[add,multiply,subtract]\n",
    "\n",
    "llm_with_tools=llm.bind_tools(tools)\n"
   ]
  },
  {
   "cell_type": "code",
   "execution_count": 5,
   "id": "6cfd1b01",
   "metadata": {},
   "outputs": [
    {
     "data": {
      "image/png": "[encoded data removed]",
      "text/plain": [
       "<IPython.core.display.Image object>"
      ]
     },
     "metadata": {},
     "output_type": "display_data"
    }
   ],
   "source": [
    "from typing_extensions import TypedDict\n",
    "from langgraph.graph import StateGraph, START, END ,MessagesState\n",
    "from langgraph.prebuilt import ToolNode,tools_condition\n",
    "from IPython.display import Image, display\n",
    "\n",
    "\n",
    "# Nodes\n",
    "\n",
    "def assistant_calling_llm(state:MessagesState):\n",
    "    return {\"messages\":[llm_with_tools.invoke(state[\"messages\"])]}\n",
    "\n",
    "\n",
    "builder=StateGraph(MessagesState)\n",
    "builder.add_node(\"assistant_calling_llm\", assistant_calling_llm)\n",
    "builder.add_node(\"tools\", ToolNode(tools))\n",
    "\n",
    "builder.add_edge(START, \"assistant_calling_llm\")\n",
    "builder.add_conditional_edges(\"assistant_calling_llm\", tools_condition)\n",
    "builder.add_edge(\"tools\", \"assistant_calling_llm\")\n",
    "\n",
    "\n",
    "graph=builder.compile(interrupt_before=[\"assistant_calling_llm\"])\n",
    "\n",
    "display(Image(graph.get_graph().draw_mermaid_png()))\n",
    "\n"
   ]
  },
  {
   "cell_type": "markdown",
   "id": "6fd32b14",
   "metadata": {},
   "source": [
    "### Human In the Loop\n",
    "Review\n",
    "For human-in-the-loop, we often want to see our graph outputs as its running.\n",
    "\n",
    "We laid the foundations for this with streaming.\n",
    "\n",
    "Goals\n",
    "Now, let's talk about the motivations for human-in-the-loop:\n",
    "\n",
    "(1) Approval - We can interrupt our agent, surface state to a user, and allow the user to accept an action\n",
    "\n",
    "(2) Debugging - We can rewind the graph to reproduce or avoid issues\n",
    "\n",
    "(3) Editing - You can modify the state\n",
    "\n",
    "LangGraph offers several ways to get or update agent state to support various human-in-the-loop workflows."
   ]
  },
  {
   "cell_type": "code",
   "execution_count": null,
   "id": "9fd7ef30",
   "metadata": {},
   "outputs": [
    {
     "data": {
      "text/plain": [
       "AIMessage(content='\\n<think>\\nOkay, the user said \"Hello\". I need to respond politely. Let me think of a friendly greeting. Maybe \"Hello! How can I assist you today?\" That sounds good. It\\'s welcoming and opens the conversation for them to explain what they need. I should make sure there\\'s no typos and it\\'s concise. Yep, that should work.\\n</think>\\n\\nHello! How can I assist you today?', additional_kwargs={}, response_metadata={'token_usage': {'completion_tokens': 84, 'prompt_tokens': 11, 'total_tokens': 95, 'completion_time': 0.203419762, 'prompt_time': 0.002873188, 'queue_time': 0.25746448099999997, 'total_time': 0.20629295}, 'model_name': 'qwen-qwq-32b', 'system_fingerprint': 'fp_a56ada6e3f', 'finish_reason': 'stop', 'logprobs': None}, id='run-9dc33991-43e6-4592-8f6c-476da13f5c66-0', usage_metadata={'input_tokens': 11, 'output_tokens': 84, 'total_tokens': 95})"
      ]
     },
     "metadata": {},
     "output_type": "display_data"
    }
   ],
   "source": [
    "from dotenv import load_dotenv\n",
    "load_dotenv()\n",
    "import os\n",
    "\n",
    "from langchain_groq import ChatGroq\n",
    "\n",
    "\n",
    "#os.environ[\"OPENAI_API_KEY\"]=os.getenv(\"OPENAI_API_KEY\")\n",
    "os.environ[\"GROQ_API_KEY\"]=os.getenv(\"GROQ_API_KEY\")\n",
    "\n",
    "\n",
    "llm=ChatGroq(model=\"qwen-qwq-32b\")\n",
    "#llm = ChatOpenAI(model=\"gpt-4o\")\n",
    "result=llm.invoke(\"Hello\")\n",
    "result\n"
   ]
  },
  {
   "cell_type": "code",
   "execution_count": null,
   "id": "b9bcb83d",
   "metadata": {},
   "outputs": [
    {
     "data": {
      "text/plain": [
       "[<function __main__.add(a: int, b: int) -> int>,\n",
       " <function __main__.multiply(a: int, b: int) -> int>,\n",
       " <function __main__.divide(a: int, b: int) -> float>]"
      ]
     },
     "metadata": {},
     "output_type": "display_data"
    }
   ],
   "source": [
    "### Custom tools\n",
    "def multiply(a: int, b: int) -> int:\n",
    "    \"\"\"Multiply a and b.\n",
    "\n",
    "    Args:\n",
    "        a: first int\n",
    "        b: second int\n",
    "    \"\"\"\n",
    "    return a * b\n",
    "\n",
    "def add(a: int, b: int) -> int:\n",
    "    \"\"\"Adds a and b.\n",
    "\n",
    "    Args:\n",
    "        a: first int\n",
    "        b: second int\n",
    "    \"\"\"\n",
    "    return a + b\n",
    "\n",
    "def divide(a: int, b: int) -> float:\n",
    "    \"\"\"Divide a by b.\n",
    "\n",
    "    Args:\n",
    "        a: first int\n",
    "        b: second int\n",
    "    \"\"\"\n",
    "    return a / b\n",
    "\n",
    "tools=[add,multiply,divide]\n",
    "tools\n",
    "\n"
   ]
  },
  {
   "cell_type": "code",
   "execution_count": null,
   "id": "d4e1f1f0",
   "metadata": {},
   "outputs": [
    {
     "data": {
      "text/plain": [
       "RunnableBinding(bound=ChatGroq(client=<groq.resources.chat.completions.Completions object at 0x000002006E470470>, async_client=<groq.resources.chat.completions.AsyncCompletions object at 0x000002006DF999A0>, model_name='qwen-qwq-32b', model_kwargs={}, groq_api_key=SecretStr('**********')), kwargs={'tools': [{'type': 'function', 'function': {'name': 'add', 'description': 'Adds a and b.', 'parameters': {'properties': {'a': {'description': 'first int', 'type': 'integer'}, 'b': {'description': 'second int', 'type': 'integer'}}, 'required': ['a', 'b'], 'type': 'object'}}}, {'type': 'function', 'function': {'name': 'multiply', 'description': 'Multiply a and b.', 'parameters': {'properties': {'a': {'description': 'first int', 'type': 'integer'}, 'b': {'description': 'second int', 'type': 'integer'}}, 'required': ['a', 'b'], 'type': 'object'}}}, {'type': 'function', 'function': {'name': 'divide', 'description': 'Divide a by b.', 'parameters': {'properties': {'a': {'description': 'first int', 'type': 'integer'}, 'b': {'description': 'second int', 'type': 'integer'}}, 'required': ['a', 'b'], 'type': 'object'}}}]}, config={}, config_factories=[])"
      ]
     },
     "metadata": {},
     "output_type": "display_data"
    }
   ],
   "source": [
    "## Integrate tools with llm\n",
    "llm_with_tools=llm.bind_tools(tools)\n",
    "llm_with_tools"
   ]
  },
  {
   "cell_type": "code",
   "execution_count": null,
   "id": "a74c5c91",
   "metadata": {},
   "outputs": [
    {
     "data": {
      "image/png": "[encoded data removed]",
      "text/plain": [
       "<IPython.core.display.Image object>"
      ]
     },
     "metadata": {},
     "output_type": "display_data"
    }
   ],
   "source": [
    "### WWorkflow with Langgraph\n",
    "from IPython.display import Image, display\n",
    "\n",
    "from langgraph.checkpoint.memory import MemorySaver\n",
    "from langgraph.graph import MessagesState\n",
    "from langgraph.graph import START, StateGraph\n",
    "from langgraph.prebuilt import tools_condition, ToolNode\n",
    "from langchain_core.messages import AIMessage,HumanMessage,SystemMessage\n",
    "\n",
    "## system Message\n",
    "sys_msg = SystemMessage(content=\"You are a helpful assistant tasked with performing arithmetic on a set of inputs.\")\n",
    "\n",
    "## node definition\n",
    "def assistant(state:MessagesState):\n",
    "    return {\"messages\":[llm_with_tools.invoke([sys_msg] + state[\"messages\"])]}\n",
    "\n",
    "#Graph\n",
    "builder=StateGraph(MessagesState)\n",
    "\n",
    "## Define nodes: \n",
    "builder.add_node(\"assistant\",assistant)\n",
    "builder.add_node(\"tools\",ToolNode(tools))\n",
    "\n",
    "## Define the Edges\n",
    "\n",
    "builder.add_edge(START,\"assistant\")\n",
    "builder.add_conditional_edges(\n",
    "    \"assistant\",\n",
    "    # If the latest message (result) from assistant is a tool call -> tools_condition routes to tools\n",
    "    # If the latest message (result) from assistant is a not a tool call -> tools_condition routes to END\n",
    "    tools_condition,\n",
    "\n",
    ")\n",
    "builder.add_edge(\"tools\",\"assistant\")\n",
    "\n",
    "memory=MemorySaver()\n",
    "\n",
    "### human in the loop\n",
    "graph=builder.compile(interrupt_before=[\"assistant\"],checkpointer=memory)\n",
    "\n",
    "# Show\n",
    "display(Image(graph.get_graph().draw_mermaid_png()))\n",
    "\n",
    "\n",
    "\n",
    "\n"
   ]
  },
  {
   "cell_type": "code",
   "execution_count": null,
   "id": "330f81a9",
   "metadata": {},
   "outputs": [],
   "source": [
    "thread={\"configurable\":{\"thread_id\":\"123\"}}\n",
    "initial_input={\"messages\":HumanMessage(content=\"Multiply 2 and 3\")}"
   ]
  },
  {
   "cell_type": "code",
   "execution_count": null,
   "id": "b00114c9",
   "metadata": {},
   "outputs": [
    {
     "name": "stdout",
     "output_type": "stream",
     "text": [
      "================================\u001b[1m Human Message \u001b[0m=================================\n",
      "\n",
      "Multiply 2 and 3\n"
     ]
    }
   ],
   "source": [
    "for event in graph.stream(initial_input,thread,stream_mode=\"values\"):\n",
    "    event['messages'][-1].pretty_print()"
   ]
  },
  {
   "cell_type": "code",
   "execution_count": null,
   "id": "89d945f3",
   "metadata": {},
   "outputs": [
    {
     "data": {
      "text/plain": [
       "('assistant',)"
      ]
     },
     "metadata": {},
     "output_type": "display_data"
    }
   ],
   "source": [
    "state=graph.get_state(thread)\n",
    "state.next"
   ]
  },
  {
   "cell_type": "code",
   "execution_count": null,
   "id": "43bc0552",
   "metadata": {},
   "outputs": [
    {
     "data": {
      "text/plain": [
       "<generator object Pregel.get_state_history at 0x000002006FED6980>"
      ]
     },
     "metadata": {},
     "output_type": "display_data"
    }
   ],
   "source": [
    "graph.get_state_history(thread)"
   ]
  },
  {
   "cell_type": "code",
   "execution_count": null,
   "id": "faf0080e",
   "metadata": {},
   "outputs": [
    {
     "data": {
      "text/plain": [
       "StateSnapshot(values={'messages': [HumanMessage(content='Multiply 2 and 3', additional_kwargs={}, response_metadata={}, id='ae3d97eb-97a2-4fdf-ba9b-3025ade6d8f4')]}, next=('assistant',), config={'configurable': {'thread_id': '123', 'checkpoint_ns': '', 'checkpoint_id': '1f01ab4d-82ee-65ff-8002-80411bc8f8fb'}}, metadata={'source': 'loop', 'writes': None, 'thread_id': '123', 'step': 2, 'parents': {}}, created_at='2025-04-16T11:20:47.187302+00:00', parent_config={'configurable': {'thread_id': '123', 'checkpoint_ns': '', 'checkpoint_id': '1f01ab4d-82eb-6ef0-8001-b71539d1c5e7'}}, tasks=(PregelTask(id='a72bfa13-c165-c256-296c-a37017bd000c', name='assistant', path=('__pregel_pull', 'assistant'), error=None, interrupts=(), state=None, result=None),))"
      ]
     },
     "metadata": {},
     "output_type": "display_data"
    }
   ],
   "source": [
    "state"
   ]
  },
  {
   "cell_type": "markdown",
   "id": "9a35cbdc",
   "metadata": {},
   "source": [
    "![image.png](attachment:image.png)"
   ]
  },
  {
   "cell_type": "code",
   "execution_count": null,
   "id": "8c0de5e9",
   "metadata": {},
   "outputs": [
    {
     "name": "stdout",
     "output_type": "stream",
     "text": [
      "================================\u001b[1m Human Message \u001b[0m=================================\n",
      "\n",
      "Multiply 2 and 3\n",
      "==================================\u001b[1m Ai Message \u001b[0m==================================\n",
      "Tool Calls:\n",
      "  multiply (call_z7ed)\n",
      " Call ID: call_z7ed\n",
      "  Args:\n",
      "    a: 2\n",
      "    b: 3\n",
      "=================================\u001b[1m Tool Message \u001b[0m=================================\n",
      "Name: multiply\n",
      "\n",
      "6\n"
     ]
    }
   ],
   "source": [
    "## Continue the execution to Assistant\n",
    "for event in graph.stream(None,thread,stream_mode=\"values\"):\n",
    "    event['messages'][-1].pretty_print()"
   ]
  },
  {
   "cell_type": "code",
   "execution_count": null,
   "id": "52aa393e",
   "metadata": {},
   "outputs": [
    {
     "data": {
      "text/plain": [
       "('assistant',)"
      ]
     },
     "metadata": {},
     "output_type": "display_data"
    }
   ],
   "source": [
    "state=graph.get_state(thread)\n",
    "state.next"
   ]
  },
  {
   "cell_type": "code",
   "execution_count": null,
   "id": "2863ff93",
   "metadata": {},
   "outputs": [
    {
     "name": "stdout",
     "output_type": "stream",
     "text": [
      "=================================\u001b[1m Tool Message \u001b[0m=================================\n",
      "Name: multiply\n",
      "\n",
      "6\n",
      "==================================\u001b[1m Ai Message \u001b[0m==================================\n",
      "\n",
      "The result of multiplying 2 and 3 is 6.\n",
      "\n",
      "<final_answer>\n",
      "6\n",
      "</final_answer>\n"
     ]
    }
   ],
   "source": [
    "## Continue the execution of Assistant and then end\n",
    "for event in graph.stream(None,thread,stream_mode=\"values\"):\n",
    "    event['messages'][-1].pretty_print()"
   ]
  },
  {
   "cell_type": "markdown",
   "id": "cc84b75c",
   "metadata": {},
   "source": [
    "### Edit Human Feedback"
   ]
  },
  {
   "cell_type": "code",
   "execution_count": null,
   "id": "edf3a0cc",
   "metadata": {},
   "outputs": [
    {
     "name": "stdout",
     "output_type": "stream",
     "text": [
      "================================\u001b[1m Human Message \u001b[0m=================================\n",
      "\n",
      "Multiply 2 and 3\n"
     ]
    }
   ],
   "source": [
    "initial_input={\"messages\":HumanMessage(content=\"Multiply 2 and 3\")}\n",
    "\n",
    "thread={\"configurable\":{\"thread_id\":\"1\"}}\n",
    "for event in graph.stream(initial_input,thread,stream_mode=\"values\"):\n",
    "    event['messages'][-1].pretty_print()"
   ]
  },
  {
   "cell_type": "code",
   "execution_count": null,
   "id": "356e39d8",
   "metadata": {},
   "outputs": [
    {
     "data": {
      "text/plain": [
       "('assistant',)"
      ]
     },
     "metadata": {},
     "output_type": "display_data"
    }
   ],
   "source": [
    "state=graph.get_state(thread)\n",
    "state.next"
   ]
  },
  {
   "cell_type": "code",
   "execution_count": null,
   "id": "67d61344",
   "metadata": {},
   "outputs": [
    {
     "data": {
      "text/plain": [
       "{'configurable': {'thread_id': '1',\n",
       "  'checkpoint_ns': '',\n",
       "  'checkpoint_id': '1f01abdb-f66c-6ea0-8001-4e8d367673c7'}}"
      ]
     },
     "metadata": {},
     "output_type": "display_data"
    }
   ],
   "source": [
    "graph.update_state(thread,{\"messages\":[HumanMessage(content=\"No,please multiply 15 and 6\")]})"
   ]
  },
  {
   "cell_type": "code",
   "execution_count": null,
   "id": "28d23068",
   "metadata": {},
   "outputs": [
    {
     "name": "stdout",
     "output_type": "stream",
     "text": [
      "================================\u001b[1m Human Message \u001b[0m=================================\n",
      "\n",
      "Multiply 2 and 3\n",
      "================================\u001b[1m Human Message \u001b[0m=================================\n",
      "\n",
      "No,please multiply 15 and 6\n"
     ]
    }
   ],
   "source": [
    "new_state=graph.get_state(thread).values\n",
    "\n",
    "for m in new_state['messages']:\n",
    "    m.pretty_print()\n"
   ]
  },
  {
   "cell_type": "code",
   "execution_count": null,
   "id": "10e52787",
   "metadata": {},
   "outputs": [
    {
     "name": "stdout",
     "output_type": "stream",
     "text": [
      "================================\u001b[1m Human Message \u001b[0m=================================\n",
      "\n",
      "No,please multiply 15 and 6\n",
      "==================================\u001b[1m Ai Message \u001b[0m==================================\n",
      "Tool Calls:\n",
      "  multiply (call_3qk7)\n",
      " Call ID: call_3qk7\n",
      "  Args:\n",
      "    a: 15\n",
      "    b: 6\n",
      "=================================\u001b[1m Tool Message \u001b[0m=================================\n",
      "Name: multiply\n",
      "\n",
      "90\n"
     ]
    }
   ],
   "source": [
    "for event in graph.stream(None, thread, stream_mode=\"values\"):\n",
    "    event['messages'][-1].pretty_print()"
   ]
  },
  {
   "cell_type": "code",
   "execution_count": null,
   "id": "c9f9ed15",
   "metadata": {},
   "outputs": [
    {
     "name": "stdout",
     "output_type": "stream",
     "text": [
      "=================================\u001b[1m Tool Message \u001b[0m=================================\n",
      "Name: multiply\n",
      "\n",
      "90\n",
      "==================================\u001b[1m Ai Message \u001b[0m==================================\n",
      "\n",
      "The result of multiplying 15 and 6 is **90**.\n"
     ]
    }
   ],
   "source": [
    "for event in graph.stream(None, thread, stream_mode=\"values\"):\n",
    "    event['messages'][-1].pretty_print()"
   ]
  },
  {
   "cell_type": "markdown",
   "id": "058806d7",
   "metadata": {},
   "source": [
    "### Workflow will Wait for the User Input"
   ]
  },
  {
   "cell_type": "code",
   "execution_count": null,
   "id": "513ac30e",
   "metadata": {},
   "outputs": [
    {
     "data": {
      "image/png": "[encoded data removed]",
      "text/plain": [
       "<IPython.core.display.Image object>"
      ]
     },
     "metadata": {},
     "output_type": "display_data"
    }
   ],
   "source": [
    "# System message\n",
    "sys_msg = SystemMessage(content=\"You are a helpful assistant tasked with performing arithmetic on a set of inputs.\")\n",
    "\n",
    "\n",
    "## Human feedback node\n",
    "\n",
    "def human_feedback(state:MessagesState):\n",
    "    pass\n",
    "\n",
    "### Assistant node\n",
    "def assistant(state:MessagesState):\n",
    "    return {\"messages\": [llm_with_tools.invoke([sys_msg] + state[\"messages\"])]}\n",
    "\n",
    "## Graph\n",
    "\n",
    "# Graph\n",
    "builder = StateGraph(MessagesState)\n",
    "\n",
    "# Define nodes: these do the work\n",
    "builder.add_node(\"assistant\", assistant)\n",
    "builder.add_node(\"tools\", ToolNode(tools))\n",
    "builder.add_node(\"human_feedback\", human_feedback)\n",
    "\n",
    "\n",
    "## Define the edges\n",
    "builder.add_edge(START,\"human_feedback\")\n",
    "builder.add_edge(\"human_feedback\",\"assistant\")\n",
    "builder.add_conditional_edges(\n",
    "    \"assistant\",\n",
    "    # If the latest message (result) from assistant is a tool call -> tools_condition routes to tools\n",
    "    # If the latest message (result) from assistant is a not a tool call -> tools_condition routes to END\n",
    "    tools_condition,\n",
    ")\n",
    "builder.add_edge(\"tools\",\"human_feedback\")\n",
    "\n",
    "memory=MemorySaver()\n",
    "graph=builder.compile(interrupt_before=[\"human_feedback\"],checkpointer=memory)\n",
    "\n",
    "display(Image(graph.get_graph().draw_mermaid_png()))\n"
   ]
  },
  {
   "cell_type": "code",
   "execution_count": null,
   "id": "870e1ea5",
   "metadata": {},
   "outputs": [
    {
     "name": "stdout",
     "output_type": "stream",
     "text": [
      "================================\u001b[1m Human Message \u001b[0m=================================\n",
      "\n",
      "Multiply 2 and 3\n",
      "================================\u001b[1m Human Message \u001b[0m=================================\n",
      "\n",
      "please multiply 5 and 6\n",
      "==================================\u001b[1m Ai Message \u001b[0m==================================\n",
      "Tool Calls:\n",
      "  multiply (call_zvhz)\n",
      " Call ID: call_zvhz\n",
      "  Args:\n",
      "    a: 5\n",
      "    b: 6\n",
      "=================================\u001b[1m Tool Message \u001b[0m=================================\n",
      "Name: multiply\n",
      "\n",
      "30\n"
     ]
    }
   ],
   "source": [
    "# Input\n",
    "initial_input = {\"messages\": \"Multiply 2 and 3\"}\n",
    "\n",
    "# Thread\n",
    "thread = {\"configurable\": {\"thread_id\": \"5\"}}\n",
    "\n",
    "# Run the graph until the first interruption\n",
    "for event in graph.stream(initial_input, thread, stream_mode=\"values\"):\n",
    "    event[\"messages\"][-1].pretty_print()\n",
    "\n",
    "## get user input\n",
    "\n",
    "user_input=input(\"Tell me how you want to update the state:\")\n",
    "graph.update_state(thread,{\"messages\":user_input},as_node=\"human_feedback\")\n",
    "\n",
    "# Continue the graph execution\n",
    "for event in graph.stream(None, thread, stream_mode=\"values\"):\n",
    "    event[\"messages\"][-1].pretty_print()"
   ]
  },
  {
   "cell_type": "code",
   "execution_count": null,
   "id": "d4d1849d",
   "metadata": {},
   "outputs": [
    {
     "name": "stdout",
     "output_type": "stream",
     "text": [
      "=================================\u001b[1m Tool Message \u001b[0m=================================\n",
      "Name: multiply\n",
      "\n",
      "30\n",
      "==================================\u001b[1m Ai Message \u001b[0m==================================\n",
      "\n",
      "30\n"
     ]
    }
   ],
   "source": [
    "# Continue the graph execution\n",
    "for event in graph.stream(None, thread, stream_mode=\"values\"):\n",
    "    event[\"messages\"][-1].pretty_print()"
   ]
  },
  {
   "cell_type": "code",
   "execution_count": null,
   "id": "f4d01e95",
   "metadata": {},
   "outputs": [],
   "source": []
  }
 ],
 "metadata": {
  "kernelspec": {
   "display_name": "LangGRAPH_basics",
   "language": "python",
   "name": "python3"
  },
  "language_info": {
   "codemirror_mode": {
    "name": "ipython",
    "version": 3
   },
   "file_extension": ".py",
   "mimetype": "text/x-python",
   "name": "python",
   "nbconvert_exporter": "python",
   "pygments_lexer": "ipython3",
   "version": "3.12.11"
  }
 },
 "nbformat": 4,
 "nbformat_minor": 5
}
